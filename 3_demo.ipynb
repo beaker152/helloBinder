{
 "cells": [
  {
   "cell_type": "code",
   "execution_count": 4,
   "metadata": {
    "collapsed": false
   },
   "outputs": [
    {
     "name": "stdout",
     "output_type": "stream",
     "text": [
      "Overwriting f1.template\n"
     ]
    }
   ],
   "source": [
    "%%writefile f1.template\n",
    "<!DOCTYPE html>\n",
    "<html>\n",
    "\t<head>\n",
    "\t\t<title>three.js webgl - geometry - cube</title>\n",
    "\t\t<meta charset=\"utf-8\">\n",
    "\t\t<meta name=\"viewport\" content=\"width=device-width, user-scalable=no, minimum-scale=1.0, maximum-scale=1.0\">\n",
    "\t\t<style>\n",
    "\t\t\tbody {\n",
    "\t\t\t\tmargin: 0px;\n",
    "\t\t\t\tbackground-color: #000000;\n",
    "\t\t\t\toverflow: hidden;\n",
    "\t\t\t}\n",
    "\t\t</style>\n",
    "\t</head>\n",
    "\t<body>\n",
    "<script src=\"http://mrdoob.github.com/three.js/build/three.min.js\"></script>\n",
    "\t\t<script>\n",
    "\t\t\tvar camera, scene, renderer;\n",
    "\t\t\tvar mesh;\n",
    "\t\t\tinit();\n",
    "\t\t\tanimate();\n",
    "\t\t\tfunction init() {\n",
    "\t\t\t\tcamera = new THREE.PerspectiveCamera( 70, window.innerWidth / window.innerHeight, 1, 1000 );\n",
    "\t\t\t\tcamera.position.z = 400;\n",
    "\t\t\t\tscene = new THREE.Scene();\n",
    "\t\t\t\tvar texture = new THREE.TextureLoader().load( 'd:/canopyCode/crate.gif' );\n",
    "\t\t\t\tvar geometry = new THREE.BoxBufferGeometry( 200, 200, 200 );\n",
    "\t\t\t\tvar myColor = new THREE.Color( 0xff0000 );\n",
    "\t\t\t\tvar material = new THREE.MeshBasicMaterial({color:  myColor} );\n",
    "\t\t\t\tmesh = new THREE.Mesh( geometry, material );\n",
    "\t\t\t\tscene.add( mesh );\n",
    "\t\t\t\trenderer = new THREE.WebGLRenderer();\n",
    "\t\t\t\trenderer.setPixelRatio( window.devicePixelRatio );\n",
    "\t\t\t\trenderer.setSize( window.innerWidth, window.innerHeight );\n",
    "\t\t\t\tdocument.body.appendChild( renderer.domElement );\n",
    "\t\t\t\t//\n",
    "\t\t\t\twindow.addEventListener( 'resize', onWindowResize, false );\n",
    "\t\t\t}\n",
    "\t\t\tfunction onWindowResize() {\n",
    "\t\t\t\tcamera.aspect = window.innerWidth / window.innerHeight;\n",
    "\t\t\t\tcamera.updateProjectionMatrix();\n",
    "\t\t\t\trenderer.setSize( window.innerWidth, window.innerHeight );\n",
    "\t\t\t}\n",
    "\t\t\tfunction animate() {\n",
    "\t\t\t\trequestAnimationFrame( animate );\n",
    "\t\t\t\tmesh.rotation.x += 0.005;\n",
    "\t\t\t\tmesh.rotation.y += 0.01;\n",
    "\t\t\t\trenderer.render( scene, camera );\n",
    "\t\t\t}\n",
    "\t\t</script>\n",
    "\t</body>\n",
    "</html>\n"
   ]
  },
  {
   "cell_type": "code",
   "execution_count": 5,
   "metadata": {
    "collapsed": true
   },
   "outputs": [],
   "source": [
    "from IPython.display import IFrame\n",
    "import re\n",
    "\n",
    "def replace_all(txt,d):\n",
    "    rep = dict((re.escape('{'+k+'}'), str(v)) for k, v in d.items())\n",
    "    pattern = re.compile(\"|\".join(rep.keys()))\n",
    "    return pattern.sub(lambda m: rep[re.escape(m.group(0))], txt)    \n",
    "\n",
    "count=0\n",
    "def serve_html(s,w,h):\n",
    "    import os\n",
    "    global count\n",
    "    count+=1\n",
    "    fn= '__tmp'+str(os.getpid())+'_'+str(count)+'.html'\n",
    "    with open(fn,'w') as f:\n",
    "        f.write(s)\n",
    "    return IFrame('files/'+fn,w,h)\n",
    "\n",
    "def display(w=1000,h=500):\n",
    "    d={\n",
    "       'width'      :w,\n",
    "       'height'     :h,\n",
    "       }\n",
    "    with open('f1.template','r') as f:\n",
    "        s=f.read()\n",
    "        s= replace_all(s,d)        \n",
    "    return serve_html(s,w,h)"
   ]
  },
  {
   "cell_type": "code",
   "execution_count": 6,
   "metadata": {
    "collapsed": false
   },
   "outputs": [
    {
     "data": {
      "text/html": [
       "\n",
       "        <iframe\n",
       "            width=\"1000\"\n",
       "            height=\"500\"\n",
       "            src=\"files/__tmp1432_1.html\"\n",
       "            frameborder=\"0\"\n",
       "            allowfullscreen\n",
       "        ></iframe>\n",
       "        "
      ],
      "text/plain": [
       "<IPython.lib.display.IFrame at 0x28ed940>"
      ]
     },
     "execution_count": 6,
     "metadata": {},
     "output_type": "execute_result"
    }
   ],
   "source": [
    "display()"
   ]
  },
  {
   "cell_type": "code",
   "execution_count": null,
   "metadata": {
    "collapsed": true
   },
   "outputs": [],
   "source": []
  }
 ],
 "metadata": {
  "kernelspec": {
   "display_name": "Python [conda root]",
   "language": "python",
   "name": "conda-root-py"
  },
  "language_info": {
   "codemirror_mode": {
    "name": "ipython",
    "version": 2
   },
   "file_extension": ".py",
   "mimetype": "text/x-python",
   "name": "python",
   "nbconvert_exporter": "python",
   "pygments_lexer": "ipython2",
   "version": "2.7.12"
  }
 },
 "nbformat": 4,
 "nbformat_minor": 1
}
